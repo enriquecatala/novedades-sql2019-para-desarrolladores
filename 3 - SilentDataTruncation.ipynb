{
    "metadata": {
        "kernelspec": {
            "name": "SQL",
            "display_name": "SQL",
            "language": "sql"
        },
        "language_info": {
            "name": "sql",
            "version": ""
        }
    },
    "nbformat_minor": 2,
    "nbformat": 4,
    "cells": [
        {
            "cell_type": "markdown",
            "source": [
                "# Ejemplo de silent data truncation\r\n",
                "En este ejemplo vamos a ver cómo funciona silent data truncation en SQL Server 2019\r\n",
                "\r\n",
                "__IMPORTANTE:__ Esta demo trabaja contra el contenedor por defecto generado en https://github.com/enriquecatala/mssql-server-samplesdb"
            ],
            "metadata": {
                "azdata_cell_guid": "041da7d7-2607-4cb7-a332-3f9a9e838cf9"
            }
        },
        {
            "cell_type": "markdown",
            "source": [
                "## Creamos la infraestructura para trabajar"
            ],
            "metadata": {
                "azdata_cell_guid": "0a48dc29-5260-41ff-8a18-978e5b886792"
            }
        },
        {
            "cell_type": "code",
            "source": [
                "use master\r\n",
                "go\r\n",
                "set nocount ON\r\n",
                "go\r\n",
                "drop database if exists dbTest;\r\n",
                "go\r\n",
                "create database dbTest;\r\n",
                "go\r\n",
                "use dbTest;\r\n",
                "go\r\n",
                "set ansi_warnings on --> default value\r\n",
                "\r\n",
                "DROP TABLE IF EXISTS DemoSQL2019 \r\n",
                "go\r\n",
                "CREATE TABLE DemoSQL2019\r\n",
                "(\r\n",
                " [ID] INT identity(1,1),\r\n",
                " [NAME] VARCHAR(15)\r\n",
                ")\r\n",
                "GO"
            ],
            "metadata": {
                "azdata_cell_guid": "da58772c-80c0-4d35-9b9a-961e7c69ba1d",
                "tags": []
            },
            "outputs": [
                {
                    "output_type": "display_data",
                    "data": {
                        "text/html": "Commands completed successfully."
                    },
                    "metadata": {}
                },
                {
                    "output_type": "display_data",
                    "data": {
                        "text/html": "Commands completed successfully."
                    },
                    "metadata": {}
                },
                {
                    "output_type": "display_data",
                    "data": {
                        "text/html": "Commands completed successfully."
                    },
                    "metadata": {}
                },
                {
                    "output_type": "display_data",
                    "data": {
                        "text/html": "Commands completed successfully."
                    },
                    "metadata": {}
                },
                {
                    "output_type": "display_data",
                    "data": {
                        "text/html": "Commands completed successfully."
                    },
                    "metadata": {}
                },
                {
                    "output_type": "display_data",
                    "data": {
                        "text/html": "Commands completed successfully."
                    },
                    "metadata": {}
                },
                {
                    "output_type": "display_data",
                    "data": {
                        "text/html": "Commands completed successfully."
                    },
                    "metadata": {}
                },
                {
                    "output_type": "display_data",
                    "data": {
                        "text/html": "Total execution time: 00:00:06.769"
                    },
                    "metadata": {}
                }
            ],
            "execution_count": 9
        },
        {
            "cell_type": "markdown",
            "source": [
                "## Ponemos la BBDD en modo de compatibilidad SQL Server 2017"
            ],
            "metadata": {
                "azdata_cell_guid": "b23f1abe-6779-420b-991a-b358815e749c"
            }
        },
        {
            "cell_type": "code",
            "source": [
                "ALTER DATABASE dbTest SET COMPATIBILITY_LEVEL = 140;"
            ],
            "metadata": {
                "azdata_cell_guid": "548484d2-2b1d-400a-8f75-1cbbf49b2d19"
            },
            "outputs": [
                {
                    "output_type": "display_data",
                    "data": {
                        "text/html": "Commands completed successfully."
                    },
                    "metadata": {}
                },
                {
                    "output_type": "display_data",
                    "data": {
                        "text/html": "Total execution time: 00:00:00.028"
                    },
                    "metadata": {}
                }
            ],
            "execution_count": 10
        },
        {
            "cell_type": "markdown",
            "source": [
                "## Insertamos un dato correcto"
            ],
            "metadata": {
                "azdata_cell_guid": "d106fc25-574f-4c6d-9fa6-2d6763f75b14"
            }
        },
        {
            "cell_type": "code",
            "source": [
                "use dbTest;\r\n",
                "go\r\n",
                "INSERT INTO DemoSQL2019 VALUES ('This is a text ')\r\n",
                "GO\r\n",
                "select * from DemoSQL2019\r\n",
                "go"
            ],
            "metadata": {
                "azdata_cell_guid": "890f0d39-bf56-43d3-b931-f725d80e587e",
                "tags": []
            },
            "outputs": [
                {
                    "output_type": "display_data",
                    "data": {
                        "text/html": "Commands completed successfully."
                    },
                    "metadata": {}
                },
                {
                    "output_type": "display_data",
                    "data": {
                        "text/html": "Commands completed successfully."
                    },
                    "metadata": {}
                },
                {
                    "output_type": "display_data",
                    "data": {
                        "text/html": "Commands completed successfully."
                    },
                    "metadata": {}
                },
                {
                    "output_type": "display_data",
                    "data": {
                        "text/html": "Total execution time: 00:00:00.015"
                    },
                    "metadata": {}
                },
                {
                    "output_type": "execute_result",
                    "metadata": {},
                    "execution_count": 11,
                    "data": {
                        "application/vnd.dataresource+json": {
                            "schema": {
                                "fields": [
                                    {
                                        "name": "ID"
                                    },
                                    {
                                        "name": "NAME"
                                    }
                                ]
                            },
                            "data": [
                                {
                                    "0": "1",
                                    "1": "This is a text "
                                }
                            ]
                        },
                        "text/html": "<table><tr><th>ID</th><th>NAME</th></tr><tr><td>1</td><td>This is a text </td></tr></table>"
                    }
                }
            ],
            "execution_count": 11
        },
        {
            "cell_type": "markdown",
            "source": [
                "## Insertamos un dato que se truncará\r\n",
                "Recordemos que estamos funcionando en versión inferior a SQL Server 2019..."
            ],
            "metadata": {
                "azdata_cell_guid": "16207c03-872f-4642-8fce-974458743def"
            }
        },
        {
            "cell_type": "code",
            "source": [
                "use dbTest;\r\n",
                "go\r\n",
                "INSERT INTO DemoSQL2019  VALUES ('That is going to be truncated')\r\n",
                "GO\r\n",
                "INSERT INTO DemoSQL2019  VALUES ('Inserted!')\r\n",
                "go\r\n",
                "select * from DemoSQL2019\r\n",
                "go"
            ],
            "metadata": {
                "azdata_cell_guid": "58ba5386-47b9-40eb-849f-69871045f0fa"
            },
            "outputs": [
                {
                    "output_type": "display_data",
                    "data": {
                        "text/html": "Commands completed successfully."
                    },
                    "metadata": {}
                },
                {
                    "output_type": "error",
                    "evalue": "Msg 8152, Level 16, State 30, Line 3\r\nString or binary data would be truncated.",
                    "ename": "",
                    "traceback": []
                },
                {
                    "output_type": "display_data",
                    "data": {
                        "text/html": "The statement has been terminated."
                    },
                    "metadata": {}
                },
                {
                    "output_type": "display_data",
                    "data": {
                        "text/html": "Commands completed successfully."
                    },
                    "metadata": {}
                },
                {
                    "output_type": "display_data",
                    "data": {
                        "text/html": "Commands completed successfully."
                    },
                    "metadata": {}
                },
                {
                    "output_type": "display_data",
                    "data": {
                        "text/html": "Total execution time: 00:00:00.014"
                    },
                    "metadata": {}
                },
                {
                    "output_type": "execute_result",
                    "metadata": {},
                    "execution_count": 12,
                    "data": {
                        "application/vnd.dataresource+json": {
                            "schema": {
                                "fields": [
                                    {
                                        "name": "ID"
                                    },
                                    {
                                        "name": "NAME"
                                    }
                                ]
                            },
                            "data": [
                                {
                                    "0": "1",
                                    "1": "This is a text "
                                },
                                {
                                    "0": "3",
                                    "1": "Inserted"
                                }
                            ]
                        },
                        "text/html": "<table><tr><th>ID</th><th>NAME</th></tr><tr><td>1</td><td>This is a text </td></tr><tr><td>3</td><td>Inserted</td></tr></table>"
                    }
                }
            ],
            "execution_count": 12
        },
        {
            "cell_type": "markdown",
            "source": [
                "Como vemos, no tenemos ninguna información sobre lo que ha pasado *__String or binary data would be truncated.__* \r\n",
                "\r\n",
                "Imagina este error en un batch de 1000 lineas, con referencias a 200 tablas..."
            ],
            "metadata": {
                "azdata_cell_guid": "ef0b34fe-e73c-4312-a936-97275838f155"
            }
        },
        {
            "cell_type": "markdown",
            "source": [
                "## Todavía puede ser peor\r\n",
                "Efectivamente, podría ser peor y dejarnos insertar...truncando el dato en silencio"
            ],
            "metadata": {
                "azdata_cell_guid": "3e600166-e18b-4d9d-8c97-89a5405054df"
            }
        },
        {
            "cell_type": "code",
            "source": [
                "use dbTest;\r\n",
                "go\r\n",
                "SET ANSI_WARNINGS OFF --> DEJAMOS DE VER SI HAY TRUNCADOS :)\r\n",
                "go\r\n",
                "INSERT INTO DemoSQL2019  VALUES ('That is going to be truncated')\r\n",
                "GO\r\n",
                "select * from DemoSQL2019\r\n",
                "go"
            ],
            "metadata": {
                "azdata_cell_guid": "34015f7f-af69-4442-a11d-9a240ce28a7c"
            },
            "outputs": [
                {
                    "output_type": "display_data",
                    "data": {
                        "text/html": "Commands completed successfully."
                    },
                    "metadata": {}
                },
                {
                    "output_type": "display_data",
                    "data": {
                        "text/html": "Commands completed successfully."
                    },
                    "metadata": {}
                },
                {
                    "output_type": "display_data",
                    "data": {
                        "text/html": "Commands completed successfully."
                    },
                    "metadata": {}
                },
                {
                    "output_type": "display_data",
                    "data": {
                        "text/html": "Commands completed successfully."
                    },
                    "metadata": {}
                },
                {
                    "output_type": "display_data",
                    "data": {
                        "text/html": "Total execution time: 00:00:00.026"
                    },
                    "metadata": {}
                },
                {
                    "output_type": "execute_result",
                    "metadata": {},
                    "execution_count": 5,
                    "data": {
                        "application/vnd.dataresource+json": {
                            "schema": {
                                "fields": [
                                    {
                                        "name": "ID"
                                    },
                                    {
                                        "name": "NAME"
                                    }
                                ]
                            },
                            "data": [
                                {
                                    "0": "1",
                                    "1": "This is a text "
                                },
                                {
                                    "0": "3",
                                    "1": "That is going t"
                                }
                            ]
                        },
                        "text/html": "<table><tr><th>ID</th><th>NAME</th></tr><tr><td>1</td><td>This is a text </td></tr><tr><td>3</td><td>That is going t</td></tr></table>"
                    }
                }
            ],
            "execution_count": 5
        },
        {
            "cell_type": "markdown",
            "source": [
                "## Cambiando a modo SQL Server 2019\r\n",
                "La BBDD en cuestión comenzará a trabajar en modo SQL Server 2019"
            ],
            "metadata": {
                "azdata_cell_guid": "6e388aff-98a3-4982-a714-c733e54e3779"
            }
        },
        {
            "cell_type": "code",
            "source": [
                "ALTER DATABASE dbTest SET COMPATIBILITY_LEVEL = 150;\r\n",
                "set ansi_warnings ON --> valor por defecto"
            ],
            "metadata": {
                "azdata_cell_guid": "10e11d55-1fc6-4733-8d3c-da6c9fa950e4"
            },
            "outputs": [
                {
                    "output_type": "display_data",
                    "data": {
                        "text/html": "Commands completed successfully."
                    },
                    "metadata": {}
                },
                {
                    "output_type": "display_data",
                    "data": {
                        "text/html": "Total execution time: 00:00:00.027"
                    },
                    "metadata": {}
                }
            ],
            "execution_count": 6
        },
        {
            "cell_type": "markdown",
            "source": [
                "## Intentemos insertar datos que no quepan\r\n",
                ""
            ],
            "metadata": {
                "azdata_cell_guid": "e0a2de6e-7869-4710-aa7d-c3cbcaa133b2"
            }
        },
        {
            "cell_type": "code",
            "source": [
                "use dbTest;\r\n",
                "go\r\n",
                "\r\n",
                "INSERT INTO DemoSQL2019  VALUES ('Please, tell me something about the error i´m going to get!')\r\n",
                "GO\r\n",
                "INSERT INTO DemoSQL2019  VALUES ('Inserted!')\r\n",
                "GO\r\n",
                "select * from DemoSQL2019\r\n",
                "go"
            ],
            "metadata": {
                "azdata_cell_guid": "6ae27309-6ed5-4498-86db-1d262d995471"
            },
            "outputs": [
                {
                    "output_type": "display_data",
                    "data": {
                        "text/html": "Commands completed successfully."
                    },
                    "metadata": {}
                },
                {
                    "output_type": "error",
                    "evalue": "Msg 2628, Level 16, State 1, Line 4\r\nString or binary data would be truncated in table 'dbTest.dbo.DemoSQL2019', column 'NAME'. Truncated value: 'Please, tell me'.",
                    "ename": "",
                    "traceback": []
                },
                {
                    "output_type": "display_data",
                    "data": {
                        "text/html": "The statement has been terminated."
                    },
                    "metadata": {}
                },
                {
                    "output_type": "display_data",
                    "data": {
                        "text/html": "Commands completed successfully."
                    },
                    "metadata": {}
                },
                {
                    "output_type": "display_data",
                    "data": {
                        "text/html": "Commands completed successfully."
                    },
                    "metadata": {}
                },
                {
                    "output_type": "display_data",
                    "data": {
                        "text/html": "Total execution time: 00:00:00.020"
                    },
                    "metadata": {}
                },
                {
                    "output_type": "execute_result",
                    "metadata": {},
                    "execution_count": 8,
                    "data": {
                        "application/vnd.dataresource+json": {
                            "schema": {
                                "fields": [
                                    {
                                        "name": "ID"
                                    },
                                    {
                                        "name": "NAME"
                                    }
                                ]
                            },
                            "data": [
                                {
                                    "0": "1",
                                    "1": "This is a text "
                                },
                                {
                                    "0": "3",
                                    "1": "That is going t"
                                },
                                {
                                    "0": "6",
                                    "1": "Inserted!"
                                }
                            ]
                        },
                        "text/html": "<table><tr><th>ID</th><th>NAME</th></tr><tr><td>1</td><td>This is a text </td></tr><tr><td>3</td><td>That is going t</td></tr><tr><td>6</td><td>Inserted!</td></tr></table>"
                    }
                }
            ],
            "execution_count": 8
        },
        {
            "cell_type": "markdown",
            "source": [
                "Como podemos ver, ahora tenemos el detalle completo del error completo: _String or binary data would be truncated in **table 'dbTest.dbo.DemoSQL2019', column 'NAME'. Truncated value: 'Please, tell me'.**_"
            ],
            "metadata": {
                "azdata_cell_guid": "045e8f9a-5b58-46f2-b8ed-befa1463a487"
            }
        },
        {
            "cell_type": "markdown",
            "source": [
                "# Desactivación a nivel de BBDD\r\n",
                "Esta característica se puede desactivar a nivel de BBDD con VERBOSE_TRUNCATION_WARNINGS\r\n",
                "\r\n",
                "_ALTER DATABASE yourdb SET VERBOSE_TRUNCATION_WARNINGS = OFF_\r\n",
                "\r\n",
                "# Activación en versiones inferiores\r\n",
                "Esta característica es retrocompatible con:\r\n",
                "- SQL Server 2016 SP2\r\n",
                "- SQL Server 2017 CU12\r\n",
                "\r\n",
                "**NOTA:** Activando el trace flag 460"
            ],
            "metadata": {
                "azdata_cell_guid": "d08cd8c8-5374-424c-90a3-8dd27d7c740f"
            }
        }
    ]
}