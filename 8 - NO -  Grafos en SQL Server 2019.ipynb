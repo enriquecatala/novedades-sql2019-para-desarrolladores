{
    "metadata": {
        "kernelspec": {
            "name": "SQL",
            "display_name": "SQL",
            "language": "sql"
        },
        "language_info": {
            "name": "sql",
            "version": ""
        }
    },
    "nbformat_minor": 2,
    "nbformat": 4,
    "cells": [
        {
            "cell_type": "markdown",
            "source": [
                "# Ejemplo sencillo de grafos con SQL Server (2017+)\r\n",
                "Ejemplo de grafos. no hay novedades de sql2019\r\n",
                "__IMPORTANTE:__ Esta demo trabaja contra el contenedor por defecto generado en https://github.com/enriquecatala/mssql-server-samplesdb"
            ],
            "metadata": {
                "azdata_cell_guid": "1de806d2-3811-4d75-9cca-25acc97ddbb9"
            }
        },
        {
            "cell_type": "markdown",
            "source": [
                "## Preparacion del entorno\r\n",
                "Creamos la tablas para trabajar, sin formato grafo"
            ],
            "metadata": {
                "azdata_cell_guid": "ddf77a20-76e9-4074-90a4-6c4ecd7a2582"
            }
        },
        {
            "cell_type": "code",
            "source": [
                "use master\r\n",
                "go\r\n",
                "set nocount ON\r\n",
                "go\r\n",
                "drop database if exists dbTest;\r\n",
                "go\r\n",
                "create database dbTest;\r\n",
                "go\r\n",
                "use dbTest\r\n",
                "go\r\n",
                "DROP TABLE if exists emp;\r\n",
                "drop table if exists empReportsTo;\r\n",
                "drop table if exists EmpNode;\r\n",
                "-- Creamos tabla empleado\r\n",
                "CREATE TABLE EMP\r\n",
                "\t(EMPNO INT NOT NULL,\r\n",
                "\tENAME VARCHAR(20),\r\n",
                "\tJOB VARCHAR(10),\r\n",
                "\tMGR INT,\r\n",
                "\tJOINDATE DATETIME,\r\n",
                "\tSALARY DECIMAL(7, 2),\r\n",
                "\tCOMMISIION DECIMAL(7, 2),\r\n",
                "\tDNO INT)\r\n",
                " \r\n",
                "INSERT INTO EMP VALUES \r\n",
                "(7369, 'SMITH', 'CLERK', 7902, '02-MAR-1970', 8000, NULL, 2),\r\n",
                "(7499, 'ALLEN', 'SALESMAN', 7698, '20-MAR-1971', 1600, 3000, 3),\r\n",
                "(7521, 'WARD', 'SALESMAN', 7698, '07-FEB-1983', 1250, 5000, 3),\r\n",
                "(7566, 'JONES', 'MANAGER', 7839, '02-JUN-1961', 2975, 50000, 2),\r\n",
                "(7654, 'MARTIN', 'SALESMAN', 7698, '28-FEB-1971', 1250, 14000, 3),\r\n",
                "(7698, 'BLAKE', 'MANAGER', 7839, '01-JAN-1988', 2850, 12000, 3),\r\n",
                "(7782, 'CLARK', 'MANAGER', 7839, '09-APR-1971', 2450, 13000, 1),\r\n",
                "(7788, 'SCOTT', 'ANALYST', 7566, '09-DEC-1982', 3000, 1200, 2),\r\n",
                "(7839, 'KING', 'PRESIDENT', NULL, '17-JUL-1971', 5000, 1456, 1),\r\n",
                "(7844, 'TURNER', 'SALESMAN', 7698, '08-AUG-1971', 1500, 0, 3),\r\n",
                "(7876, 'ADAMS', 'CLERK', 7788, '12-MAR-1973', 1100, 0, 2),\r\n",
                "(7900, 'JAMES', 'CLERK', 7698, '03-NOV-1971', 950, 0, 3),\r\n",
                "(7902, 'FORD', 'ANALYST', 7566, '04-MAR-1961', 3000, 0, 2),\r\n",
                "(7934, 'MILLER', 'CLERK', 7782, '21-JAN-1972', 1300, 0, 1)"
            ],
            "metadata": {
                "azdata_cell_guid": "491b9889-bd09-4b0b-a332-a5156d9c7117"
            },
            "outputs": [
                {
                    "output_type": "display_data",
                    "data": {
                        "text/html": "Commands completed successfully."
                    },
                    "metadata": {}
                },
                {
                    "output_type": "display_data",
                    "data": {
                        "text/html": "Commands completed successfully."
                    },
                    "metadata": {}
                },
                {
                    "output_type": "display_data",
                    "data": {
                        "text/html": "Commands completed successfully."
                    },
                    "metadata": {}
                },
                {
                    "output_type": "display_data",
                    "data": {
                        "text/html": "Commands completed successfully."
                    },
                    "metadata": {}
                },
                {
                    "output_type": "display_data",
                    "data": {
                        "text/html": "Commands completed successfully."
                    },
                    "metadata": {}
                },
                {
                    "output_type": "display_data",
                    "data": {
                        "text/html": "Commands completed successfully."
                    },
                    "metadata": {}
                },
                {
                    "output_type": "display_data",
                    "data": {
                        "text/html": "Total execution time: 00:00:02.013"
                    },
                    "metadata": {}
                }
            ],
            "execution_count": 1
        },
        {
            "cell_type": "markdown",
            "source": [
                "### Consultar información\r\n",
                "En almacenamiento tradicional, la información no se encuentra relacionada"
            ],
            "metadata": {
                "azdata_cell_guid": "8e186221-d31a-4584-9e04-575770c0f169"
            }
        },
        {
            "cell_type": "code",
            "source": [
                "use dbTest\r\n",
                "go\r\n",
                "select empno, ename,mgr ReportsTo from emp\r\n",
                "go"
            ],
            "metadata": {
                "azdata_cell_guid": "6c4cc490-4e9d-444a-8ed0-d5a3a7fcf651"
            },
            "outputs": [
                {
                    "output_type": "display_data",
                    "data": {
                        "text/html": "Commands completed successfully."
                    },
                    "metadata": {}
                },
                {
                    "output_type": "display_data",
                    "data": {
                        "text/html": "Commands completed successfully."
                    },
                    "metadata": {}
                },
                {
                    "output_type": "display_data",
                    "data": {
                        "text/html": "Total execution time: 00:00:00.008"
                    },
                    "metadata": {}
                },
                {
                    "output_type": "execute_result",
                    "metadata": {},
                    "execution_count": 2,
                    "data": {
                        "application/vnd.dataresource+json": {
                            "schema": {
                                "fields": [
                                    {
                                        "name": "empno"
                                    },
                                    {
                                        "name": "ename"
                                    },
                                    {
                                        "name": "ReportsTo"
                                    }
                                ]
                            },
                            "data": [
                                {
                                    "0": "7369",
                                    "1": "SMITH",
                                    "2": "7902"
                                },
                                {
                                    "0": "7499",
                                    "1": "ALLEN",
                                    "2": "7698"
                                },
                                {
                                    "0": "7521",
                                    "1": "WARD",
                                    "2": "7698"
                                },
                                {
                                    "0": "7566",
                                    "1": "JONES",
                                    "2": "7839"
                                },
                                {
                                    "0": "7654",
                                    "1": "MARTIN",
                                    "2": "7698"
                                },
                                {
                                    "0": "7698",
                                    "1": "BLAKE",
                                    "2": "7839"
                                },
                                {
                                    "0": "7782",
                                    "1": "CLARK",
                                    "2": "7839"
                                },
                                {
                                    "0": "7788",
                                    "1": "SCOTT",
                                    "2": "7566"
                                },
                                {
                                    "0": "7839",
                                    "1": "KING",
                                    "2": "NULL"
                                },
                                {
                                    "0": "7844",
                                    "1": "TURNER",
                                    "2": "7698"
                                },
                                {
                                    "0": "7876",
                                    "1": "ADAMS",
                                    "2": "7788"
                                },
                                {
                                    "0": "7900",
                                    "1": "JAMES",
                                    "2": "7698"
                                },
                                {
                                    "0": "7902",
                                    "1": "FORD",
                                    "2": "7566"
                                },
                                {
                                    "0": "7934",
                                    "1": "MILLER",
                                    "2": "7782"
                                }
                            ]
                        },
                        "text/html": "<table><tr><th>empno</th><th>ename</th><th>ReportsTo</th></tr><tr><td>7369</td><td>SMITH</td><td>7902</td></tr><tr><td>7499</td><td>ALLEN</td><td>7698</td></tr><tr><td>7521</td><td>WARD</td><td>7698</td></tr><tr><td>7566</td><td>JONES</td><td>7839</td></tr><tr><td>7654</td><td>MARTIN</td><td>7698</td></tr><tr><td>7698</td><td>BLAKE</td><td>7839</td></tr><tr><td>7782</td><td>CLARK</td><td>7839</td></tr><tr><td>7788</td><td>SCOTT</td><td>7566</td></tr><tr><td>7839</td><td>KING</td><td>NULL</td></tr><tr><td>7844</td><td>TURNER</td><td>7698</td></tr><tr><td>7876</td><td>ADAMS</td><td>7788</td></tr><tr><td>7900</td><td>JAMES</td><td>7698</td></tr><tr><td>7902</td><td>FORD</td><td>7566</td></tr><tr><td>7934</td><td>MILLER</td><td>7782</td></tr></table>"
                    }
                }
            ],
            "execution_count": 2
        },
        {
            "cell_type": "markdown",
            "source": [
                "## Crear nuestro grafo\r\n",
                "Vamos a almacenar la información anterior en forma de grafo. \r\n",
                "\r\n",
                "### Creamos nodo y arista"
            ],
            "metadata": {
                "azdata_cell_guid": "8916894a-821e-41ec-a330-04c73e11e42f"
            }
        },
        {
            "cell_type": "code",
            "source": [
                "CREATE TABLE dbo.EmpNode(\r\n",
                "\tID Int Identity(1,1),\r\n",
                "\tEMPNO NUMERIC(4) NOT NULL,\r\n",
                "\tENAME VARCHAR(10),\r\n",
                "\tMGR NUMERIC(4),\r\n",
                "\tDNO INT\r\n",
                "\t) AS NODE;\r\n",
                "    \r\n",
                "    CREATE TABLE empReportsTo(Deptno int) AS EDGE "
            ],
            "metadata": {
                "azdata_cell_guid": "342aebb3-ce4d-402e-ba47-d623c4e037a8"
            },
            "outputs": [
                {
                    "output_type": "display_data",
                    "data": {
                        "text/html": "Commands completed successfully."
                    },
                    "metadata": {}
                },
                {
                    "output_type": "display_data",
                    "data": {
                        "text/html": "Total execution time: 00:00:00.031"
                    },
                    "metadata": {}
                }
            ],
            "execution_count": 3
        },
        {
            "cell_type": "markdown",
            "source": [
                "### Insertamos los datos en nodo"
            ],
            "metadata": {
                "azdata_cell_guid": "ac3cde57-a785-4606-8a22-01d9cbf39395"
            }
        },
        {
            "cell_type": "code",
            "source": [
                "INSERT INTO EmpNode(EMPNO,ENAME,MGR,DNO) \r\n",
                "select empno,ename,MGR,dno from emp\r\n",
                "go"
            ],
            "metadata": {
                "azdata_cell_guid": "daded96d-05d3-4649-b9ae-8d6b8b1c7dc0"
            },
            "outputs": [
                {
                    "output_type": "display_data",
                    "data": {
                        "text/html": "Commands completed successfully."
                    },
                    "metadata": {}
                },
                {
                    "output_type": "display_data",
                    "data": {
                        "text/html": "Total execution time: 00:00:00.029"
                    },
                    "metadata": {}
                }
            ],
            "execution_count": 4
        },
        {
            "cell_type": "markdown",
            "source": [
                "### Insertamos datos en arista"
            ],
            "metadata": {
                "azdata_cell_guid": "7e559187-6ee9-416d-87e3-767efbe7954d"
            }
        },
        {
            "cell_type": "code",
            "source": [
                "INSERT INTO empReportsTo  VALUES ((SELECT $node_id FROM EmpNode WHERE ID = 1), \r\n",
                "       (SELECT $node_id FROM EmpNode WHERE id = 13),20);\r\n",
                "INSERT INTO empReportsTo  VALUES ((SELECT $node_id FROM EmpNode WHERE ID = 2), \r\n",
                "       (SELECT $node_id FROM EmpNode WHERE id = 6),10);\r\n",
                "\t   INSERT INTO empReportsTo  VALUES ((SELECT $node_id FROM EmpNode WHERE ID = 3), \r\n",
                "       (SELECT $node_id FROM EmpNode WHERE id = 6),10)\r\n",
                "   INSERT INTO empReportsTo  VALUES ((SELECT $node_id FROM EmpNode WHERE ID = 4), \r\n",
                "       (SELECT $node_id FROM EmpNode WHERE id = 9),30);\r\n",
                "INSERT INTO empReportsTo  VALUES ((SELECT $node_id FROM EmpNode WHERE ID = 5), \r\n",
                "       (SELECT $node_id FROM EmpNode WHERE id = 6),30);\r\n",
                "INSERT INTO empReportsTo  VALUES ((SELECT $node_id FROM EmpNode WHERE ID = 6), \r\n",
                "       (SELECT $node_id FROM EmpNode WHERE id = 9),30);\r\n",
                "INSERT INTO empReportsTo  VALUES ((SELECT $node_id FROM EmpNode WHERE ID = 7), \r\n",
                "       (SELECT $node_id FROM EmpNode WHERE id = 9),30);\r\n",
                "INSERT INTO empReportsTo  VALUES ((SELECT $node_id FROM EmpNode WHERE ID = 8), \r\n",
                "       (SELECT $node_id FROM EmpNode WHERE id = 4),30);\r\n",
                "INSERT INTO empReportsTo  VALUES ((SELECT $node_id FROM EmpNode WHERE ID = 9), \r\n",
                "       (SELECT $node_id FROM EmpNode WHERE id = 9),30);\r\n",
                "INSERT INTO empReportsTo  VALUES ((SELECT $node_id FROM EmpNode WHERE ID = 10), \r\n",
                "       (SELECT $node_id FROM EmpNode WHERE id = 6),30);\r\n",
                "INSERT INTO empReportsTo  VALUES ((SELECT $node_id FROM EmpNode WHERE ID = 11), \r\n",
                "       (SELECT $node_id FROM EmpNode WHERE id = 8),30);\r\n",
                "INSERT INTO empReportsTo  VALUES ((SELECT $node_id FROM EmpNode WHERE ID = 12), \r\n",
                "       (SELECT $node_id FROM EmpNode WHERE id = 6),30);\r\n",
                "INSERT INTO empReportsTo  VALUES ((SELECT $node_id FROM EmpNode WHERE ID = 13), \r\n",
                "       (SELECT $node_id FROM EmpNode WHERE id = 4),30);\r\n",
                "INSERT INTO empReportsTo  VALUES ((SELECT $node_id FROM EmpNode WHERE ID = 14), \r\n",
                "       (SELECT $node_id FROM EmpNode WHERE id = 7),30);\r\n",
                ""
            ],
            "metadata": {
                "azdata_cell_guid": "28ad8976-e27a-4655-b081-a687f7ead19a"
            },
            "outputs": [
                {
                    "output_type": "display_data",
                    "data": {
                        "text/html": "Commands completed successfully."
                    },
                    "metadata": {}
                },
                {
                    "output_type": "display_data",
                    "data": {
                        "text/html": "Total execution time: 00:00:00.451"
                    },
                    "metadata": {}
                }
            ],
            "execution_count": 5
        },
        {
            "cell_type": "markdown",
            "source": [
                "## Consultas típicas\r\n",
                "\r\n",
                "### Primer y tercer nivel de jerarquia"
            ],
            "metadata": {
                "azdata_cell_guid": "899babe7-2581-4524-9828-e85137ea9998"
            }
        },
        {
            "cell_type": "code",
            "source": [
                "-- Primer nivel\r\n",
                "SELECT E.EMPNO,E.ENAME,E.MGR,E1.EMPNO,E1.ENAME,E1.MGR\r\n",
                "FROM empnode e, empnode e1, empReportsTo m \r\n",
                "WHERE MATCH(e-(m)->e1)\r\n",
                "\tand e.ENAME='SMITH';\r\n",
                "-- Tercer nivel\r\n",
                "SELECT E.EMPNO,E.ENAME,E.MGR,E1.EMPNO,E1.ENAME,E1.MGR,E2.EMPNO,e2.ENAME,E2.MGR,E3.EMPNO,e3.ENAME,E3.MGR\r\n",
                "FROM empnode e, empnode e1, empReportsTo m ,empReportsTo m1, empnode e2, empReportsTo M2, empnode e3\r\n",
                "WHERE MATCH(e-(m)->e1-(m1)->e2-(m2)->e3)\r\n",
                "  and e.ENAME='SMITH'"
            ],
            "metadata": {
                "azdata_cell_guid": "2d5435c4-0a9c-413e-a3f1-aeb011083d0d"
            },
            "outputs": [
                {
                    "output_type": "display_data",
                    "data": {
                        "text/html": "Commands completed successfully."
                    },
                    "metadata": {}
                },
                {
                    "output_type": "display_data",
                    "data": {
                        "text/html": "Total execution time: 00:00:00.194"
                    },
                    "metadata": {}
                },
                {
                    "output_type": "execute_result",
                    "metadata": {},
                    "execution_count": 6,
                    "data": {
                        "application/vnd.dataresource+json": {
                            "schema": {
                                "fields": [
                                    {
                                        "name": "EMPNO"
                                    },
                                    {
                                        "name": "ENAME"
                                    },
                                    {
                                        "name": "MGR"
                                    },
                                    {
                                        "name": "EMPNO"
                                    },
                                    {
                                        "name": "ENAME"
                                    },
                                    {
                                        "name": "MGR"
                                    }
                                ]
                            },
                            "data": [
                                {
                                    "0": "7369",
                                    "1": "SMITH",
                                    "2": "7902",
                                    "3": "7902",
                                    "4": "FORD",
                                    "5": "7566"
                                }
                            ]
                        },
                        "text/html": "<table><tr><th>EMPNO</th><th>ENAME</th><th>MGR</th><th>EMPNO</th><th>ENAME</th><th>MGR</th></tr><tr><td>7369</td><td>SMITH</td><td>7902</td><td>7902</td><td>FORD</td><td>7566</td></tr></table>"
                    }
                },
                {
                    "output_type": "execute_result",
                    "metadata": {},
                    "execution_count": 6,
                    "data": {
                        "application/vnd.dataresource+json": {
                            "schema": {
                                "fields": [
                                    {
                                        "name": "EMPNO"
                                    },
                                    {
                                        "name": "ENAME"
                                    },
                                    {
                                        "name": "MGR"
                                    },
                                    {
                                        "name": "EMPNO"
                                    },
                                    {
                                        "name": "ENAME"
                                    },
                                    {
                                        "name": "MGR"
                                    },
                                    {
                                        "name": "EMPNO"
                                    },
                                    {
                                        "name": "ENAME"
                                    },
                                    {
                                        "name": "MGR"
                                    },
                                    {
                                        "name": "EMPNO"
                                    },
                                    {
                                        "name": "ENAME"
                                    },
                                    {
                                        "name": "MGR"
                                    }
                                ]
                            },
                            "data": [
                                {
                                    "0": "7369",
                                    "1": "SMITH",
                                    "2": "7902",
                                    "3": "7902",
                                    "4": "FORD",
                                    "5": "7566",
                                    "6": "7566",
                                    "7": "JONES",
                                    "8": "7839",
                                    "9": "7839",
                                    "10": "KING",
                                    "11": "NULL"
                                }
                            ]
                        },
                        "text/html": "<table><tr><th>EMPNO</th><th>ENAME</th><th>MGR</th><th>EMPNO</th><th>ENAME</th><th>MGR</th><th>EMPNO</th><th>ENAME</th><th>MGR</th><th>EMPNO</th><th>ENAME</th><th>MGR</th></tr><tr><td>7369</td><td>SMITH</td><td>7902</td><td>7902</td><td>FORD</td><td>7566</td><td>7566</td><td>JONES</td><td>7839</td><td>7839</td><td>KING</td><td>NULL</td></tr></table>"
                    }
                }
            ],
            "execution_count": 6
        }
    ]
}