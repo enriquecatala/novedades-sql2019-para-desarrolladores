{
    "metadata": {
        "kernelspec": {
            "name": "SQL",
            "display_name": "SQL",
            "language": "sql"
        },
        "language_info": {
            "name": "sql",
            "version": ""
        }
    },
    "nbformat_minor": 2,
    "nbformat": 4,
    "cells": [
        {
            "cell_type": "markdown",
            "source": [
                "# Ejemplo novedades en grafos con SQL Server 2019\n",
                "Ejemplo de novedades en grafos con SQL Server 2019. Limitaciones actuales:\n",
                "\n",
                "- Solo 1 grafo por bbdd\n",
                "- Las tablas temporales locales o globales no pueden ser tablas de nodo o perimetrales.\n",
                "- Los tipos de tabla y las variables de tabla no se pueden declarar como una tabla de nodo o perimetral.\n",
                "- Las tablas de nodo y perimetrales no se pueden crear como tablas temporales con versión del sistema.\n",
                "- Las tablas de nodo y perimetrales no pueden ser tablas con optimización para memoria.\n",
                "- Los usuarios no pueden $from_id actualizar $to_id las columnas y de un borde mediante la instrucción UPDATE. Para actualizar los nodos a los que se conecta un borde, los usuarios tendrán que insertar - el nuevo borde que apunta a los nuevos nodos y eliminar el anterior.\n",
                "- No se admiten las consultas entre bases de datos en objetos de grafo.\n",
                "\n",
                "![graph](./media/SilentDataTruncation/graph.png)\n",
                "\n",
                "\n",
                "__IMPORTANTE:__ Esta demo trabaja contra el contenedor por defecto generado en https://github.com/enriquecatala/mssql-server-samplesdb"
            ],
            "metadata": {
                "azdata_cell_guid": "0c95985f-cab6-46b8-b257-50232e7cb41c"
            }
        },
        {
            "cell_type": "markdown",
            "source": [
                "# Ejemplo de constraints en aristas\r\n",
                "\r\n",
                "## Creacion de NODO administrador\r\n",
                "Supongamos que queremos introducir el rol de usuarios de administración lógico de nuestras aplicaciones"
            ],
            "metadata": {
                "azdata_cell_guid": "ada56f5f-4938-416f-ad50-9ffe6f6b3860"
            }
        },
        {
            "cell_type": "code",
            "source": [
                "use master\r\n",
                "go\r\n",
                "set nocount ON\r\n",
                "go\r\n",
                "drop database if exists dbTest;\r\n",
                "go\r\n",
                "create database dbTest;\r\n",
                "go\r\n",
                "use dbTest\r\n",
                "go\r\n",
                "-- Creamos nodo adminitradores\r\n",
                "DROP TABLE IF EXISTS administrator;\r\n",
                "go\r\n",
                "CREATE TABLE administrator (ID INTEGER PRIMARY KEY, administratorName VARCHAR(100)) AS NODE;\r\n",
                "go\r\n",
                "INSERT INTO administrator VALUES (1,'enriquecatala')\r\n",
                "Go\r\n",
                "SELECT * FROM administrator"
            ],
            "metadata": {
                "azdata_cell_guid": "643c7bc3-50d5-448b-b9b7-212006a34ed8",
                "tags": []
            },
            "outputs": [
                {
                    "output_type": "display_data",
                    "data": {
                        "text/html": "Commands completed successfully."
                    },
                    "metadata": {}
                },
                {
                    "output_type": "display_data",
                    "data": {
                        "text/html": "Commands completed successfully."
                    },
                    "metadata": {}
                },
                {
                    "output_type": "display_data",
                    "data": {
                        "text/html": "Commands completed successfully."
                    },
                    "metadata": {}
                },
                {
                    "output_type": "display_data",
                    "data": {
                        "text/html": "Commands completed successfully."
                    },
                    "metadata": {}
                },
                {
                    "output_type": "display_data",
                    "data": {
                        "text/html": "Commands completed successfully."
                    },
                    "metadata": {}
                },
                {
                    "output_type": "display_data",
                    "data": {
                        "text/html": "Commands completed successfully."
                    },
                    "metadata": {}
                },
                {
                    "output_type": "display_data",
                    "data": {
                        "text/html": "Commands completed successfully."
                    },
                    "metadata": {}
                },
                {
                    "output_type": "display_data",
                    "data": {
                        "text/html": "Commands completed successfully."
                    },
                    "metadata": {}
                },
                {
                    "output_type": "display_data",
                    "data": {
                        "text/html": "Commands completed successfully."
                    },
                    "metadata": {}
                },
                {
                    "output_type": "display_data",
                    "data": {
                        "text/html": "Total execution time: 00:00:01.630"
                    },
                    "metadata": {}
                },
                {
                    "output_type": "execute_result",
                    "metadata": {},
                    "execution_count": 13,
                    "data": {
                        "application/vnd.dataresource+json": {
                            "schema": {
                                "fields": [
                                    {
                                        "name": "$node_id_48348EC67B124C69BECDA028A7746F44"
                                    },
                                    {
                                        "name": "ID"
                                    },
                                    {
                                        "name": "administratorName"
                                    }
                                ]
                            },
                            "data": [
                                {
                                    "0": "{\"type\":\"node\",\"schema\":\"dbo\",\"table\":\"administrator\",\"id\":0}",
                                    "1": "1",
                                    "2": "enriquecatala"
                                }
                            ]
                        },
                        "text/html": "<table><tr><th>$node_id_48348EC67B124C69BECDA028A7746F44</th><th>ID</th><th>administratorName</th></tr><tr><td>{&quot;type&quot;:&quot;node&quot;,&quot;schema&quot;:&quot;dbo&quot;,&quot;table&quot;:&quot;administrator&quot;,&quot;id&quot;:0}</td><td>1</td><td>enriquecatala</td></tr></table>"
                    }
                }
            ],
            "execution_count": 13
        },
        {
            "cell_type": "markdown",
            "source": [
                "El valor $node_id_HEX es un valor único generado automaticamente que identifica unequivocamente al nodo. En esa columna se almacena el valor único que identifica el elemento\r\n",
                "```json\r\n",
                "{\"type\":\"node\",\"schema\":\"dbo\",\"table\":\"administrator\",\"id\":0}\r\n",
                "```"
            ],
            "metadata": {
                "azdata_cell_guid": "efe21fb4-2878-4797-8256-a90086e2a4db"
            }
        },
        {
            "cell_type": "markdown",
            "source": [
                "## Creación de NODO Users\r\n",
                "Aqui es donde iremos metiendo a nuestros usuarios administrados."
            ],
            "metadata": {
                "azdata_cell_guid": "87945c7a-9886-4034-afdf-9868499b30e5"
            }
        },
        {
            "cell_type": "code",
            "source": [
                "CREATE TABLE Users (ID INTEGER PRIMARY KEY, UserName VARCHAR(100)) AS NODE;\r\n",
                "INSERT INTO Users\r\n",
                "VALUES (1,'UsuarioAdministrado'), (2, 'UsuarioAdministrado2')\r\n",
                "Go\r\n",
                "SELECT * FROM Users\r\n",
                ""
            ],
            "metadata": {
                "azdata_cell_guid": "521a3112-91a7-4d3a-baa7-8b45d77bae60"
            },
            "outputs": [
                {
                    "output_type": "display_data",
                    "data": {
                        "text/html": "Commands completed successfully."
                    },
                    "metadata": {}
                },
                {
                    "output_type": "display_data",
                    "data": {
                        "text/html": "Commands completed successfully."
                    },
                    "metadata": {}
                },
                {
                    "output_type": "display_data",
                    "data": {
                        "text/html": "Total execution time: 00:00:00.031"
                    },
                    "metadata": {}
                },
                {
                    "output_type": "execute_result",
                    "metadata": {},
                    "execution_count": 14,
                    "data": {
                        "application/vnd.dataresource+json": {
                            "schema": {
                                "fields": [
                                    {
                                        "name": "$node_id_AC31D50AC641447DA0F1CBC0CF911323"
                                    },
                                    {
                                        "name": "ID"
                                    },
                                    {
                                        "name": "UserName"
                                    }
                                ]
                            },
                            "data": [
                                {
                                    "0": "{\"type\":\"node\",\"schema\":\"dbo\",\"table\":\"Users\",\"id\":0}",
                                    "1": "1",
                                    "2": "UsuarioAdministrado"
                                },
                                {
                                    "0": "{\"type\":\"node\",\"schema\":\"dbo\",\"table\":\"Users\",\"id\":1}",
                                    "1": "2",
                                    "2": "UsuarioAdministrado2"
                                }
                            ]
                        },
                        "text/html": "<table><tr><th>$node_id_AC31D50AC641447DA0F1CBC0CF911323</th><th>ID</th><th>UserName</th></tr><tr><td>{&quot;type&quot;:&quot;node&quot;,&quot;schema&quot;:&quot;dbo&quot;,&quot;table&quot;:&quot;Users&quot;,&quot;id&quot;:0}</td><td>1</td><td>UsuarioAdministrado</td></tr><tr><td>{&quot;type&quot;:&quot;node&quot;,&quot;schema&quot;:&quot;dbo&quot;,&quot;table&quot;:&quot;Users&quot;,&quot;id&quot;:1}</td><td>2</td><td>UsuarioAdministrado2</td></tr></table>"
                    }
                }
            ],
            "execution_count": 14
        },
        {
            "cell_type": "markdown",
            "source": [
                "Nótese el valor de id del json es:\r\n",
                "```json\r\n",
                "{\"type\":\"node\",\"schema\":\"dbo\",\"table\":\"Users\",\"id\":0}\r\n",
                "```"
            ],
            "metadata": {
                "azdata_cell_guid": "a7f5c8da-5170-48a7-bd22-898ff4aac2e9"
            }
        },
        {
            "cell_type": "markdown",
            "source": [
                "## Creación de arista autorización\r\n",
                "Esta es una de las novedades en SQL Server 2019. Que podemos crear constraints para Edges"
            ],
            "metadata": {
                "azdata_cell_guid": "29d38ee8-f817-4a25-9aa9-c1b6731e4bc5"
            }
        },
        {
            "cell_type": "code",
            "source": [
                "DROP TABLE IF EXISTS [Authorization]\r\n",
                "-- Autorización siempre va en un sentido. Desde Administrator->Users\r\n",
                "CREATE TABLE [Authorization] \r\n",
                "(\r\n",
                "\tCONSTRAINT EC_Authorization Connection (Administrator TO Users)\r\n",
                ") As Edge\r\n",
                "Go\r\n",
                ""
            ],
            "metadata": {
                "azdata_cell_guid": "ba618238-d431-450a-83f9-db5570790c19"
            },
            "outputs": [
                {
                    "output_type": "display_data",
                    "data": {
                        "text/html": "Commands completed successfully."
                    },
                    "metadata": {}
                },
                {
                    "output_type": "display_data",
                    "data": {
                        "text/html": "Total execution time: 00:00:00.012"
                    },
                    "metadata": {}
                }
            ],
            "execution_count": 15
        },
        {
            "cell_type": "markdown",
            "source": [
                "## Inserción en orden correcto\r\n",
                "En el orden correcto tenemos la inserción que va desde Administrador hacia Usuario, porque es el administrador el que administra, no al reves"
            ],
            "metadata": {
                "azdata_cell_guid": "570e64aa-c780-452b-8e15-fa15d5d65179"
            }
        },
        {
            "cell_type": "code",
            "source": [
                "-- Intentemos insertar en orden correcto \r\n",
                "INSERT INTO [Authorization] ($from_id ,$to_id )\r\n",
                "VALUES (\r\n",
                "    (SELECT $node_id from administrator where ID=1), --> administrador\r\n",
                "    (SELECT $node_id from Users where ID=1))         --> usuario\r\n",
                "go\r\n",
                "select * from [Authorization]"
            ],
            "metadata": {
                "azdata_cell_guid": "3c418d91-0d80-43b8-a142-c1236981c63d"
            },
            "outputs": [
                {
                    "output_type": "display_data",
                    "data": {
                        "text/html": "Commands completed successfully."
                    },
                    "metadata": {}
                },
                {
                    "output_type": "display_data",
                    "data": {
                        "text/html": "Commands completed successfully."
                    },
                    "metadata": {}
                },
                {
                    "output_type": "display_data",
                    "data": {
                        "text/html": "Total execution time: 00:00:00.021"
                    },
                    "metadata": {}
                },
                {
                    "output_type": "execute_result",
                    "metadata": {},
                    "execution_count": 16,
                    "data": {
                        "application/vnd.dataresource+json": {
                            "schema": {
                                "fields": [
                                    {
                                        "name": "$edge_id_B4B650F76EC64B5C8189D4E470482BE1"
                                    },
                                    {
                                        "name": "$from_id_DE9DE7CB2836444B82B15667B4C98638"
                                    },
                                    {
                                        "name": "$to_id_6F3E08B6374248EBA020558BD991F3F1"
                                    }
                                ]
                            },
                            "data": [
                                {
                                    "0": "{\"type\":\"edge\",\"schema\":\"dbo\",\"table\":\"Authorization\",\"id\":0}",
                                    "1": "{\"type\":\"node\",\"schema\":\"dbo\",\"table\":\"administrator\",\"id\":0}",
                                    "2": "{\"type\":\"node\",\"schema\":\"dbo\",\"table\":\"Users\",\"id\":0}"
                                }
                            ]
                        },
                        "text/html": "<table><tr><th>$edge_id_B4B650F76EC64B5C8189D4E470482BE1</th><th>$from_id_DE9DE7CB2836444B82B15667B4C98638</th><th>$to_id_6F3E08B6374248EBA020558BD991F3F1</th></tr><tr><td>{&quot;type&quot;:&quot;edge&quot;,&quot;schema&quot;:&quot;dbo&quot;,&quot;table&quot;:&quot;Authorization&quot;,&quot;id&quot;:0}</td><td>{&quot;type&quot;:&quot;node&quot;,&quot;schema&quot;:&quot;dbo&quot;,&quot;table&quot;:&quot;administrator&quot;,&quot;id&quot;:0}</td><td>{&quot;type&quot;:&quot;node&quot;,&quot;schema&quot;:&quot;dbo&quot;,&quot;table&quot;:&quot;Users&quot;,&quot;id&quot;:0}</td></tr></table>"
                    }
                }
            ],
            "execution_count": 16
        },
        {
            "cell_type": "markdown",
            "source": [
                "## Inserción que viola la constraint\r\n",
                "Ahora en SQL Server 2019, ya no se nos permite hacer algo que igual en nuestro modelo no deberia estar permitido, como es indicar que un usuario pueda administrar a un administrador :)"
            ],
            "metadata": {
                "azdata_cell_guid": "94e6dd6d-ef1d-4421-ad04-de8d263fbb97"
            }
        },
        {
            "cell_type": "code",
            "source": [
                "-- Intentemos insertar en orden correcto \r\n",
                "INSERT INTO [Authorization] ($from_id ,$to_id )\r\n",
                "VALUES (\r\n",
                "    (SELECT $node_id from Users where ID=2),           --> usuario\r\n",
                "    (SELECT $node_id from administrator where ID=1))   --> administrador\r\n",
                "go\r\n",
                "-- Seguimos teniendo la relación anterior\r\n",
                "select * from [Authorization]"
            ],
            "metadata": {
                "azdata_cell_guid": "3f7669d2-e9d8-4a3f-9813-c8e98d31063a"
            },
            "outputs": [
                {
                    "output_type": "error",
                    "evalue": "Msg 547, Level 16, State 0, Line 2\r\nThe INSERT statement conflicted with the EDGE constraint \"EC_Authorization\". The conflict occurred in database \"dbTest\", table \"dbo.Authorization\".",
                    "ename": "",
                    "traceback": []
                },
                {
                    "output_type": "display_data",
                    "data": {
                        "text/html": "The statement has been terminated."
                    },
                    "metadata": {}
                },
                {
                    "output_type": "display_data",
                    "data": {
                        "text/html": "Commands completed successfully."
                    },
                    "metadata": {}
                },
                {
                    "output_type": "display_data",
                    "data": {
                        "text/html": "Total execution time: 00:00:00.021"
                    },
                    "metadata": {}
                },
                {
                    "output_type": "execute_result",
                    "metadata": {},
                    "execution_count": 17,
                    "data": {
                        "application/vnd.dataresource+json": {
                            "schema": {
                                "fields": [
                                    {
                                        "name": "$edge_id_B4B650F76EC64B5C8189D4E470482BE1"
                                    },
                                    {
                                        "name": "$from_id_DE9DE7CB2836444B82B15667B4C98638"
                                    },
                                    {
                                        "name": "$to_id_6F3E08B6374248EBA020558BD991F3F1"
                                    }
                                ]
                            },
                            "data": [
                                {
                                    "0": "{\"type\":\"edge\",\"schema\":\"dbo\",\"table\":\"Authorization\",\"id\":0}",
                                    "1": "{\"type\":\"node\",\"schema\":\"dbo\",\"table\":\"administrator\",\"id\":0}",
                                    "2": "{\"type\":\"node\",\"schema\":\"dbo\",\"table\":\"Users\",\"id\":0}"
                                }
                            ]
                        },
                        "text/html": "<table><tr><th>$edge_id_B4B650F76EC64B5C8189D4E470482BE1</th><th>$from_id_DE9DE7CB2836444B82B15667B4C98638</th><th>$to_id_6F3E08B6374248EBA020558BD991F3F1</th></tr><tr><td>{&quot;type&quot;:&quot;edge&quot;,&quot;schema&quot;:&quot;dbo&quot;,&quot;table&quot;:&quot;Authorization&quot;,&quot;id&quot;:0}</td><td>{&quot;type&quot;:&quot;node&quot;,&quot;schema&quot;:&quot;dbo&quot;,&quot;table&quot;:&quot;administrator&quot;,&quot;id&quot;:0}</td><td>{&quot;type&quot;:&quot;node&quot;,&quot;schema&quot;:&quot;dbo&quot;,&quot;table&quot;:&quot;Users&quot;,&quot;id&quot;:0}</td></tr></table>"
                    }
                }
            ],
            "execution_count": 17
        },
        {
            "cell_type": "markdown",
            "source": [
                "# Ejemplo de SHORTEST_PATH\r\n",
                "La nueva función SHORTEST_PATH sirve para encontrar:\r\n",
                "- Una ruta de acceso más corta entre dos nodos o entidades determinados\r\n",
                "- Rutas de acceso más cortas de origen único.\r\n",
                "- Ruta más corta de varios nodos de origen a varios nodos de destino.\r\n",
                "\r\n",
                "Toma un patrón de longitud arbitraria como entrada y devuelve una ruta más corta que existe entre dos nodos. Esta función solo se puede usar dentro de la coincidencia. La función devuelve solo una ruta más corta entre dos nodos dados. Si existe, dos o más rutas de acceso más cortas de la misma longitud entre cualquier par de nodos de origen y de destino, la función devuelve solo una ruta de acceso que se encontró en primer lugar durante el recorrido. Tenga en cuenta que, un patrón de longitud arbitraria solo puede especificarse dentro de una función SHORTEST_PATH.\r\n",
                "\r\n",
                ""
            ],
            "metadata": {
                "azdata_cell_guid": "bac62e2d-2b96-427e-9694-52d4e6ac7f9e"
            }
        },
        {
            "cell_type": "code",
            "source": [
                "USE graphdemo;\r\n",
                "go\r\n",
                "\r\n",
                "DROP TABLE IF EXISTS likes;\r\n",
                "DROP TABLE IF EXISTS Person;\r\n",
                "DROP TABLE IF EXISTS Restaurant;\r\n",
                "DROP TABLE IF EXISTS City;\r\n",
                "DROP TABLE IF EXISTS friendOf;\r\n",
                "DROP TABLE IF EXISTS livesIn;\r\n",
                "DROP TABLE IF EXISTS locatedIn;\r\n",
                "\r\n",
                "USE master;\r\n",
                "go\r\n",
                "DROP DATABASE IF EXISTS graphdemo;\r\n",
                "go\r\n",
                "\r\n",
                "-- Create a graph demo database\r\n",
                "CREATE DATABASE graphdemo;\r\n",
                "go\r\n",
                "\r\n",
                "USE  graphdemo;\r\n",
                "go\r\n",
                "\r\n",
                "-- Create NODE tables\r\n",
                "CREATE TABLE Person (\r\n",
                "  ID INTEGER PRIMARY KEY,\r\n",
                "  name VARCHAR(100)\r\n",
                ") AS NODE;\r\n",
                "\r\n",
                "CREATE TABLE Restaurant (\r\n",
                "  ID INTEGER NOT NULL,\r\n",
                "  name VARCHAR(100),\r\n",
                "  city VARCHAR(100)\r\n",
                ") AS NODE;\r\n",
                "\r\n",
                "CREATE TABLE City (\r\n",
                "  ID INTEGER PRIMARY KEY,\r\n",
                "  name VARCHAR(100),\r\n",
                "  stateName VARCHAR(100)\r\n",
                ") AS NODE;\r\n",
                "\r\n",
                "-- Create EDGE tables. \r\n",
                "CREATE TABLE likes (rating INTEGER) AS EDGE;\r\n",
                "CREATE TABLE friendOf AS EDGE;\r\n",
                "CREATE TABLE livesIn AS EDGE;\r\n",
                "CREATE TABLE locatedIn AS EDGE;\r\n",
                "\r\n",
                "-- Insert data into node tables. Inserting into a node table is same as inserting into a regular table\r\n",
                "INSERT INTO Person VALUES (1,'John');\r\n",
                "INSERT INTO Person VALUES (2,'Mary');\r\n",
                "INSERT INTO Person VALUES (3,'Alice');\r\n",
                "INSERT INTO Person VALUES (4,'Jacob');\r\n",
                "INSERT INTO Person VALUES (5,'Julie');\r\n",
                "\r\n",
                "INSERT INTO Restaurant VALUES (1,'Taco Dell','Bellevue');\r\n",
                "INSERT INTO Restaurant VALUES (2,'Ginger and Spice','Seattle');\r\n",
                "INSERT INTO Restaurant VALUES (3,'Noodle Land', 'Redmond');\r\n",
                "\r\n",
                "INSERT INTO City VALUES (1,'Bellevue','wa');\r\n",
                "INSERT INTO City VALUES (2,'Seattle','wa');\r\n",
                "INSERT INTO City VALUES (3,'Redmond','wa');\r\n",
                "\r\n",
                "-- Insert into edge table. While inserting into an edge table,\r\n",
                "-- you need to provide the $node_id from $from_id and $to_id columns.\r\n",
                "INSERT INTO likes VALUES ((SELECT $node_id FROM Person WHERE ID = 1), \r\n",
                "       (SELECT $node_id FROM Restaurant WHERE ID = 1),9);\r\n",
                "INSERT INTO likes VALUES ((SELECT $node_id FROM Person WHERE ID = 2), \r\n",
                "      (SELECT $node_id FROM Restaurant WHERE ID = 2),9);\r\n",
                "INSERT INTO likes VALUES ((SELECT $node_id FROM Person WHERE ID = 3), \r\n",
                "      (SELECT $node_id FROM Restaurant WHERE ID = 3),9);\r\n",
                "INSERT INTO likes VALUES ((SELECT $node_id FROM Person WHERE ID = 4), \r\n",
                "      (SELECT $node_id FROM Restaurant WHERE ID = 3),9);\r\n",
                "INSERT INTO likes VALUES ((SELECT $node_id FROM Person WHERE ID = 5), \r\n",
                "      (SELECT $node_id FROM Restaurant WHERE ID = 3),9);\r\n",
                "\r\n",
                "INSERT INTO livesIn VALUES ((SELECT $node_id FROM Person WHERE ID = 1),\r\n",
                "      (SELECT $node_id FROM City WHERE ID = 1));\r\n",
                "INSERT INTO livesIn VALUES ((SELECT $node_id FROM Person WHERE ID = 2),\r\n",
                "      (SELECT $node_id FROM City WHERE ID = 2));\r\n",
                "INSERT INTO livesIn VALUES ((SELECT $node_id FROM Person WHERE ID = 3),\r\n",
                "      (SELECT $node_id FROM City WHERE ID = 3));\r\n",
                "INSERT INTO livesIn VALUES ((SELECT $node_id FROM Person WHERE ID = 4),\r\n",
                "      (SELECT $node_id FROM City WHERE ID = 3));\r\n",
                "INSERT INTO livesIn VALUES ((SELECT $node_id FROM Person WHERE ID = 5),\r\n",
                "      (SELECT $node_id FROM City WHERE ID = 1));\r\n",
                "\r\n",
                "INSERT INTO locatedIn VALUES ((SELECT $node_id FROM Restaurant WHERE ID = 1),\r\n",
                "      (SELECT $node_id FROM City WHERE ID =1));\r\n",
                "INSERT INTO locatedIn VALUES ((SELECT $node_id FROM Restaurant WHERE ID = 2),\r\n",
                "      (SELECT $node_id FROM City WHERE ID =2));\r\n",
                "INSERT INTO locatedIn VALUES ((SELECT $node_id FROM Restaurant WHERE ID = 3),\r\n",
                "      (SELECT $node_id FROM City WHERE ID =3));\r\n",
                "\r\n",
                "-- Insert data into the friendOf edge.\r\n",
                "INSERT INTO friendOf VALUES ((SELECT $NODE_ID FROM Person WHERE ID = 1), (SELECT $NODE_ID FROM Person WHERE ID = 2));\r\n",
                "INSERT INTO friendOf VALUES ((SELECT $NODE_ID FROM Person WHERE ID = 2), (SELECT $NODE_ID FROM Person WHERE ID = 3));\r\n",
                "INSERT INTO friendOf VALUES ((SELECT $NODE_ID FROM Person WHERE ID = 3), (SELECT $NODE_ID FROM Person WHERE ID = 1));\r\n",
                "INSERT INTO friendOf VALUES ((SELECT $NODE_ID FROM Person WHERE ID = 4), (SELECT $NODE_ID FROM Person WHERE ID = 2));\r\n",
                "INSERT INTO friendOf VALUES ((SELECT $NODE_ID FROM Person WHERE ID = 5), (SELECT $NODE_ID FROM Person WHERE ID = 4));\r\n",
                "\r\n",
                "\r\n",
                "-- Find Restaurants that John likes\r\n",
                "SELECT Restaurant.name\r\n",
                "FROM Person, likes, Restaurant\r\n",
                "WHERE MATCH (Person-(likes)->Restaurant)\r\n",
                "AND Person.name = 'John';\r\n",
                "\r\n",
                "-- Find Restaurants that John's friends like\r\n",
                "SELECT Restaurant.name \r\n",
                "FROM Person person1, Person person2, likes, friendOf, Restaurant\r\n",
                "WHERE MATCH(person1-(friendOf)->person2-(likes)->Restaurant)\r\n",
                "AND person1.name='John';\r\n",
                "\r\n",
                "-- Find people who like a restaurant in the same city they live in\r\n",
                "SELECT Person.name\r\n",
                "FROM Person, likes, Restaurant, livesIn, City, locatedIn\r\n",
                "WHERE MATCH (Person-(likes)->Restaurant-(locatedIn)->City AND Person-(livesIn)->City);"
            ],
            "metadata": {
                "azdata_cell_guid": "085e57f8-ac70-463c-bc56-a0e1ee4b8f31"
            },
            "outputs": [
                {
                    "output_type": "display_data",
                    "data": {
                        "text/html": "Commands completed successfully."
                    },
                    "metadata": {}
                },
                {
                    "output_type": "display_data",
                    "data": {
                        "text/html": "Commands completed successfully."
                    },
                    "metadata": {}
                },
                {
                    "output_type": "display_data",
                    "data": {
                        "text/html": "Commands completed successfully."
                    },
                    "metadata": {}
                },
                {
                    "output_type": "display_data",
                    "data": {
                        "text/html": "Commands completed successfully."
                    },
                    "metadata": {}
                },
                {
                    "output_type": "display_data",
                    "data": {
                        "text/html": "Commands completed successfully."
                    },
                    "metadata": {}
                },
                {
                    "output_type": "display_data",
                    "data": {
                        "text/html": "Commands completed successfully."
                    },
                    "metadata": {}
                },
                {
                    "output_type": "display_data",
                    "data": {
                        "text/html": "Total execution time: 00:00:01.787"
                    },
                    "metadata": {}
                },
                {
                    "output_type": "execute_result",
                    "metadata": {},
                    "execution_count": 19,
                    "data": {
                        "application/vnd.dataresource+json": {
                            "schema": {
                                "fields": [
                                    {
                                        "name": "name"
                                    }
                                ]
                            },
                            "data": [
                                {
                                    "0": "Taco Dell"
                                }
                            ]
                        },
                        "text/html": "<table><tr><th>name</th></tr><tr><td>Taco Dell</td></tr></table>"
                    }
                },
                {
                    "output_type": "execute_result",
                    "metadata": {},
                    "execution_count": 19,
                    "data": {
                        "application/vnd.dataresource+json": {
                            "schema": {
                                "fields": [
                                    {
                                        "name": "name"
                                    }
                                ]
                            },
                            "data": [
                                {
                                    "0": "Ginger and Spice"
                                }
                            ]
                        },
                        "text/html": "<table><tr><th>name</th></tr><tr><td>Ginger and Spice</td></tr></table>"
                    }
                },
                {
                    "output_type": "execute_result",
                    "metadata": {},
                    "execution_count": 19,
                    "data": {
                        "application/vnd.dataresource+json": {
                            "schema": {
                                "fields": [
                                    {
                                        "name": "name"
                                    }
                                ]
                            },
                            "data": [
                                {
                                    "0": "John"
                                },
                                {
                                    "0": "Mary"
                                },
                                {
                                    "0": "Alice"
                                },
                                {
                                    "0": "Jacob"
                                }
                            ]
                        },
                        "text/html": "<table><tr><th>name</th></tr><tr><td>John</td></tr><tr><td>Mary</td></tr><tr><td>Alice</td></tr><tr><td>Jacob</td></tr></table>"
                    }
                }
            ],
            "execution_count": 19
        },
        {
            "cell_type": "markdown",
            "source": [
                "## Buscar la ruta mas corta de un nodo a todos los demás\r\n",
                ""
            ],
            "metadata": {
                "azdata_cell_guid": "e0d39223-0b1a-4ad6-8813-53a63baca9ab"
            }
        },
        {
            "cell_type": "code",
            "source": [
                "SELECT\r\n",
                "   Person1.name AS PersonName, \r\n",
                "   STRING_AGG(Person2.name, '->') WITHIN GROUP (GRAPH PATH) AS Friends\r\n",
                "FROM\r\n",
                "   Person AS Person1,\r\n",
                "   friendOf FOR PATH AS fo,\r\n",
                "   Person FOR PATH  AS Person2\r\n",
                "WHERE MATCH(SHORTEST_PATH(Person1(-(fo)->Person2)+))\r\n",
                "AND Person1.name = 'Jacob'"
            ],
            "metadata": {
                "azdata_cell_guid": "6c0a7592-a5dd-4cf4-b82b-19be812ac967"
            },
            "outputs": [
                {
                    "output_type": "display_data",
                    "data": {
                        "text/html": "Commands completed successfully."
                    },
                    "metadata": {}
                },
                {
                    "output_type": "display_data",
                    "data": {
                        "text/html": "Total execution time: 00:00:00.067"
                    },
                    "metadata": {}
                },
                {
                    "output_type": "execute_result",
                    "metadata": {},
                    "execution_count": 20,
                    "data": {
                        "application/vnd.dataresource+json": {
                            "schema": {
                                "fields": [
                                    {
                                        "name": "PersonName"
                                    },
                                    {
                                        "name": "Friends"
                                    }
                                ]
                            },
                            "data": [
                                {
                                    "0": "Jacob",
                                    "1": "Mary"
                                },
                                {
                                    "0": "Jacob",
                                    "1": "Mary->Alice"
                                },
                                {
                                    "0": "Jacob",
                                    "1": "Mary->Alice->John"
                                }
                            ]
                        },
                        "text/html": "<table><tr><th>PersonName</th><th>Friends</th></tr><tr><td>Jacob</td><td>Mary</td></tr><tr><td>Jacob</td><td>Mary-&gt;Alice</td></tr><tr><td>Jacob</td><td>Mary-&gt;Alice-&gt;John</td></tr></table>"
                    }
                }
            ],
            "execution_count": 20
        },
        {
            "cell_type": "markdown",
            "source": [
                "## Saltos y niveles que se recorren para encontrar dos elementos"
            ],
            "metadata": {
                "azdata_cell_guid": "3b96d5b5-431a-4db4-a3ab-fa95495a1be7"
            }
        },
        {
            "cell_type": "code",
            "source": [
                "SELECT PersonName, Friends, levels\r\n",
                "FROM (  \r\n",
                "   SELECT\r\n",
                "       Person1.name AS PersonName, \r\n",
                "       STRING_AGG(Person2.name, '->') WITHIN GROUP (GRAPH PATH) AS Friends,\r\n",
                "       LAST_VALUE(Person2.name) WITHIN GROUP (GRAPH PATH) AS LastNode,\r\n",
                "       COUNT(Person2.name) WITHIN GROUP (GRAPH PATH) AS levels\r\n",
                "   FROM\r\n",
                "       Person AS Person1,\r\n",
                "       friendOf FOR PATH AS fo,\r\n",
                "       Person FOR PATH  AS Person2\r\n",
                "   WHERE MATCH(SHORTEST_PATH(Person1(-(fo)->Person2)+))\r\n",
                "   --AND Person1.name = 'Jacob'\r\n",
                ") AS Q\r\n",
                "WHERE Q.LastNode = 'Alice'"
            ],
            "metadata": {
                "azdata_cell_guid": "2d1b5a3e-a5de-482e-a813-c496380fa6ff"
            },
            "outputs": [
                {
                    "output_type": "display_data",
                    "data": {
                        "text/html": "Commands completed successfully."
                    },
                    "metadata": {}
                },
                {
                    "output_type": "display_data",
                    "data": {
                        "text/html": "Total execution time: 00:00:00.040"
                    },
                    "metadata": {}
                },
                {
                    "output_type": "execute_result",
                    "metadata": {},
                    "execution_count": 24,
                    "data": {
                        "application/vnd.dataresource+json": {
                            "schema": {
                                "fields": [
                                    {
                                        "name": "PersonName"
                                    },
                                    {
                                        "name": "Friends"
                                    },
                                    {
                                        "name": "levels"
                                    }
                                ]
                            },
                            "data": [
                                {
                                    "0": "Mary",
                                    "1": "Alice",
                                    "2": "1"
                                },
                                {
                                    "0": "John",
                                    "1": "Mary->Alice",
                                    "2": "2"
                                },
                                {
                                    "0": "Jacob",
                                    "1": "Mary->Alice",
                                    "2": "2"
                                },
                                {
                                    "0": "Alice",
                                    "1": "John->Mary->Alice",
                                    "2": "3"
                                },
                                {
                                    "0": "Julie",
                                    "1": "Jacob->Mary->Alice",
                                    "2": "3"
                                }
                            ]
                        },
                        "text/html": "<table><tr><th>PersonName</th><th>Friends</th><th>levels</th></tr><tr><td>Mary</td><td>Alice</td><td>1</td></tr><tr><td>John</td><td>Mary-&gt;Alice</td><td>2</td></tr><tr><td>Jacob</td><td>Mary-&gt;Alice</td><td>2</td></tr><tr><td>Alice</td><td>John-&gt;Mary-&gt;Alice</td><td>3</td></tr><tr><td>Julie</td><td>Jacob-&gt;Mary-&gt;Alice</td><td>3</td></tr></table>"
                    }
                }
            ],
            "execution_count": 24
        },
        {
            "cell_type": "code",
            "source": [
                "## Buscar elementos a exactamente n posiciones"
            ],
            "metadata": {
                "azdata_cell_guid": "79bff896-5c95-4290-adea-efa288b7bc63"
            },
            "outputs": [],
            "execution_count": 0
        },
        {
            "cell_type": "code",
            "source": [
                "SELECT PersonName, Friends\r\n",
                "FROM (\r\n",
                "    SELECT\r\n",
                "        Person1.name AS PersonName, \r\n",
                "        STRING_AGG(Person2.name, '->') WITHIN GROUP (GRAPH PATH) AS Friends,\r\n",
                "        COUNT(Person2.name) WITHIN GROUP (GRAPH PATH) AS levels\r\n",
                "    FROM\r\n",
                "        Person AS Person1,\r\n",
                "        friendOf FOR PATH AS fo,\r\n",
                "        Person FOR PATH  AS Person2\r\n",
                "    WHERE MATCH(SHORTEST_PATH(Person1(-(fo)->Person2){1,3}))\r\n",
                "    --AND Person1.name = 'Jacob'\r\n",
                ") Q\r\n",
                "WHERE Q.levels = 2"
            ],
            "metadata": {
                "azdata_cell_guid": "767395f1-f5a7-47af-ac9b-22435e06330f"
            },
            "outputs": [
                {
                    "output_type": "display_data",
                    "data": {
                        "text/html": "Commands completed successfully."
                    },
                    "metadata": {}
                },
                {
                    "output_type": "display_data",
                    "data": {
                        "text/html": "Total execution time: 00:00:00.034"
                    },
                    "metadata": {}
                },
                {
                    "output_type": "execute_result",
                    "metadata": {},
                    "execution_count": 23,
                    "data": {
                        "application/vnd.dataresource+json": {
                            "schema": {
                                "fields": [
                                    {
                                        "name": "PersonName"
                                    },
                                    {
                                        "name": "Friends"
                                    }
                                ]
                            },
                            "data": [
                                {
                                    "0": "John",
                                    "1": "Mary->Alice"
                                },
                                {
                                    "0": "Mary",
                                    "1": "Alice->John"
                                },
                                {
                                    "0": "Alice",
                                    "1": "John->Mary"
                                },
                                {
                                    "0": "Jacob",
                                    "1": "Mary->Alice"
                                },
                                {
                                    "0": "Julie",
                                    "1": "Jacob->Mary"
                                }
                            ]
                        },
                        "text/html": "<table><tr><th>PersonName</th><th>Friends</th></tr><tr><td>John</td><td>Mary-&gt;Alice</td></tr><tr><td>Mary</td><td>Alice-&gt;John</td></tr><tr><td>Alice</td><td>John-&gt;Mary</td></tr><tr><td>Jacob</td><td>Mary-&gt;Alice</td></tr><tr><td>Julie</td><td>Jacob-&gt;Mary</td></tr></table>"
                    }
                }
            ],
            "execution_count": 23
        }
    ]
}