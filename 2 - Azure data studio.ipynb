{
    "metadata": {
        "kernelspec": {
            "name": "SQL",
            "display_name": "SQL",
            "language": "sql"
        },
        "language_info": {
            "name": "sql",
            "version": ""
        }
    },
    "nbformat_minor": 2,
    "nbformat": 4,
    "cells": [
        {
            "cell_type": "markdown",
            "source": [
                "# Demo 2\n",
                "En esta demo simplemente enseñaremos una de las ventajas de usar Azure Data Studio para scriptar y llevar control de acciones recurrentes manuales complejas\n",
                "\n",
                "Enseñar tambien cómo se pueden abrir ADS desde SSMS y cómo abrir un folder y trabajar side-by-side"
            ],
            "metadata": {
                "azdata_cell_guid": "6c8c04f6-c11d-4973-b4cc-47713e27cd0f"
            }
        }
    ]
}